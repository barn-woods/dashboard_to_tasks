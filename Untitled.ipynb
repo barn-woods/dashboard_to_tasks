{
 "cells": [
  {
   "cell_type": "code",
   "execution_count": 17,
   "id": "8ee2f4ef-43f1-4771-b7c0-77cb9cd587eb",
   "metadata": {},
   "outputs": [],
   "source": [
    "import geopandas as gpd\n",
    "import pandas as pd\n",
    "import json"
   ]
  },
  {
   "cell_type": "code",
   "execution_count": 18,
   "id": "d5acf397-494d-492a-8e03-a1b8c3c04d8b",
   "metadata": {},
   "outputs": [],
   "source": [
    "data_df = pd.read_csv('extract_with_modified_columns.csv')"
   ]
  },
  {
   "cell_type": "code",
   "execution_count": 19,
   "id": "10645c23-3f53-43ea-ada2-cf1bbbe10aa5",
   "metadata": {},
   "outputs": [],
   "source": [
    "def avg_area(row):\n",
    "    json_acceptable_string = str(row['geometry']).replace(\"'\", \"\\\"\")\n",
    "    formatted_json = json.loads(json_acceptable_string)\n",
    "    geo_pandas_df = gpd.GeoDataFrame.from_features(formatted_json)\n",
    "    return geo_pandas_df.area.mean()"
   ]
  },
  {
   "cell_type": "code",
   "execution_count": 20,
   "id": "20bd0d5c-84c1-4b23-bc97-8f1a081769c3",
   "metadata": {},
   "outputs": [
    {
     "data": {
      "text/html": [
       "<div>\n",
       "<style scoped>\n",
       "    .dataframe tbody tr th:only-of-type {\n",
       "        vertical-align: middle;\n",
       "    }\n",
       "\n",
       "    .dataframe tbody tr th {\n",
       "        vertical-align: top;\n",
       "    }\n",
       "\n",
       "    .dataframe thead th {\n",
       "        text-align: right;\n",
       "    }\n",
       "</style>\n",
       "<table border=\"1\" class=\"dataframe\">\n",
       "  <thead>\n",
       "    <tr style=\"text-align: right;\">\n",
       "      <th></th>\n",
       "      <th>originating-authority-charge-identifier</th>\n",
       "      <th>geometry</th>\n",
       "      <th>number_of_polygons</th>\n",
       "      <th>number_of_points</th>\n",
       "      <th>number_of_lines</th>\n",
       "      <th>avg_area</th>\n",
       "    </tr>\n",
       "  </thead>\n",
       "  <tbody>\n",
       "    <tr>\n",
       "      <th>0</th>\n",
       "      <td>13726</td>\n",
       "      <td>{'features': [{'geometry': {'coordinates': [[[...</td>\n",
       "      <td>1</td>\n",
       "      <td>0</td>\n",
       "      <td>0</td>\n",
       "      <td>36.09300</td>\n",
       "    </tr>\n",
       "    <tr>\n",
       "      <th>1</th>\n",
       "      <td>13728</td>\n",
       "      <td>{'features': [{'geometry': {'coordinates': [37...</td>\n",
       "      <td>0</td>\n",
       "      <td>11</td>\n",
       "      <td>0</td>\n",
       "      <td>0.00000</td>\n",
       "    </tr>\n",
       "    <tr>\n",
       "      <th>2</th>\n",
       "      <td>13729</td>\n",
       "      <td>{'features': [{'geometry': {'coordinates': [[[...</td>\n",
       "      <td>1</td>\n",
       "      <td>0</td>\n",
       "      <td>0</td>\n",
       "      <td>197.21905</td>\n",
       "    </tr>\n",
       "  </tbody>\n",
       "</table>\n",
       "</div>"
      ],
      "text/plain": [
       "   originating-authority-charge-identifier  \\\n",
       "0                                    13726   \n",
       "1                                    13728   \n",
       "2                                    13729   \n",
       "\n",
       "                                            geometry  number_of_polygons  \\\n",
       "0  {'features': [{'geometry': {'coordinates': [[[...                   1   \n",
       "1  {'features': [{'geometry': {'coordinates': [37...                   0   \n",
       "2  {'features': [{'geometry': {'coordinates': [[[...                   1   \n",
       "\n",
       "   number_of_points  number_of_lines   avg_area  \n",
       "0                 0                0   36.09300  \n",
       "1                11                0    0.00000  \n",
       "2                 0                0  197.21905  "
      ]
     },
     "execution_count": 20,
     "metadata": {},
     "output_type": "execute_result"
    }
   ],
   "source": [
    "data_df['avg_area'] = data_df.apply(lambda row: avg_area(row), axis=1)\n",
    "data_df.head(3)"
   ]
  },
  {
   "cell_type": "code",
   "execution_count": 64,
   "id": "2cca50cd-79b3-4012-a3b7-d670090c3c3b",
   "metadata": {},
   "outputs": [
    {
     "data": {
      "text/html": [
       "<div>\n",
       "<style scoped>\n",
       "    .dataframe tbody tr th:only-of-type {\n",
       "        vertical-align: middle;\n",
       "    }\n",
       "\n",
       "    .dataframe tbody tr th {\n",
       "        vertical-align: top;\n",
       "    }\n",
       "\n",
       "    .dataframe thead th {\n",
       "        text-align: right;\n",
       "    }\n",
       "</style>\n",
       "<table border=\"1\" class=\"dataframe\">\n",
       "  <thead>\n",
       "    <tr style=\"text-align: right;\">\n",
       "      <th></th>\n",
       "      <th>geometry</th>\n",
       "      <th>id</th>\n",
       "    </tr>\n",
       "  </thead>\n",
       "  <tbody>\n",
       "    <tr>\n",
       "      <th>0</th>\n",
       "      <td>POLYGON ((378642.740 198099.030, 378647.490 19...</td>\n",
       "      <td>1</td>\n",
       "    </tr>\n",
       "  </tbody>\n",
       "</table>\n",
       "</div>"
      ],
      "text/plain": [
       "                                            geometry  id\n",
       "0  POLYGON ((378642.740 198099.030, 378647.490 19...   1"
      ]
     },
     "execution_count": 64,
     "metadata": {},
     "output_type": "execute_result"
    }
   ],
   "source": [
    "gpd.GeoDataFrame.from_features(d)"
   ]
  },
  {
   "cell_type": "code",
   "execution_count": 85,
   "id": "a5eb5626-044c-4468-ad33-90362c1e8839",
   "metadata": {},
   "outputs": [],
   "source": [
    "geo_list = []"
   ]
  },
  {
   "cell_type": "code",
   "execution_count": null,
   "id": "2bee6fb4-f542-4bcd-8c76-33803f89b794",
   "metadata": {},
   "outputs": [],
   "source": [
    "oaci_list = list(data_df['geometry'])"
   ]
  },
  {
   "cell_type": "code",
   "execution_count": 84,
   "id": "597a8256-2551-4716-a43b-ef8d4ba7d716",
   "metadata": {},
   "outputs": [],
   "source": [
    "for i in data_df['geometry']:\n",
    "        json_acceptable_string = i.replace(\"'\", \"\\\"\")\n",
    "        d = json.loads(json_acceptable_string)\n",
    "        geo_list.append(d)\n",
    "for i in geo_list:\n",
    "    f = gpd.GeoDataFrame.from_features(i)"
   ]
  },
  {
   "cell_type": "code",
   "execution_count": 5,
   "id": "2f1ff138-d606-42d2-b008-9a8c32bdb55b",
   "metadata": {},
   "outputs": [
    {
     "data": {
      "text/html": [
       "<div>\n",
       "<style scoped>\n",
       "    .dataframe tbody tr th:only-of-type {\n",
       "        vertical-align: middle;\n",
       "    }\n",
       "\n",
       "    .dataframe tbody tr th {\n",
       "        vertical-align: top;\n",
       "    }\n",
       "\n",
       "    .dataframe thead th {\n",
       "        text-align: right;\n",
       "    }\n",
       "</style>\n",
       "<table border=\"1\" class=\"dataframe\">\n",
       "  <thead>\n",
       "    <tr style=\"text-align: right;\">\n",
       "      <th></th>\n",
       "      <th>geometry</th>\n",
       "      <th>id</th>\n",
       "    </tr>\n",
       "  </thead>\n",
       "  <tbody>\n",
       "    <tr>\n",
       "      <th>0</th>\n",
       "      <td>POLYGON ((374590.524 210402.927, 374591.990 21...</td>\n",
       "      <td>1</td>\n",
       "    </tr>\n",
       "    <tr>\n",
       "      <th>1</th>\n",
       "      <td>POLYGON ((374581.380 210403.510, 374590.524 21...</td>\n",
       "      <td>2</td>\n",
       "    </tr>\n",
       "  </tbody>\n",
       "</table>\n",
       "</div>"
      ],
      "text/plain": [
       "                                            geometry  id\n",
       "0  POLYGON ((374590.524 210402.927, 374591.990 21...   1\n",
       "1  POLYGON ((374581.380 210403.510, 374590.524 21...   2"
      ]
     },
     "execution_count": 5,
     "metadata": {},
     "output_type": "execute_result"
    }
   ],
   "source": [
    "data = gpd.GeoDataFrame.from_features({'features': [{'geometry': {'coordinates': [[[374590.524, 210402.926999999], [374591.99, 210403.08], [374592.4, 210407.9], [374609.5, 210406.25], [374608.3, 210387.699999999], [374603.9, 210388], [374604.4, 210395.6], [374605.3, 210395.5], [374605.69, 210401.960000001], [374590.524, 210402.926999999]]], 'crs': {'properties': {'name': 'urn:ogc:def:crs:EPSG::27700'}, 'type': 'name'}, 'type': 'Polygon'}, 'properties': {'id': 1}, 'type': 'Feature'}, {'geometry': {'coordinates': [[[374581.38, 210403.51], [374590.524, 210402.926999999], [374590.17, 210402.890000001], [374589.55, 210394.41], [374585.75, 210394.779999999], [374585.31, 210385.529999999], [374577.08, 210386.029999999], [374577.29, 210393.27], [374580.65, 210393.279999999], [374581.38, 210403.51]]], 'crs': {'properties': {'name': 'urn:ogc:def:crs:EPSG::27700'}, 'type': 'name'}, 'type': 'Polygon'}, 'properties': {'id': 2}, 'type': 'Feature'}], 'type': 'FeatureCollection'})\n",
    "data"
   ]
  },
  {
   "cell_type": "code",
   "execution_count": 6,
   "id": "a9c6ce08-7ab4-4daa-8dee-926973f57567",
   "metadata": {},
   "outputs": [
    {
     "data": {
      "text/plain": [
       "0    139.068110\n",
       "1    145.197605\n",
       "dtype: float64"
      ]
     },
     "execution_count": 6,
     "metadata": {},
     "output_type": "execute_result"
    }
   ],
   "source": [
    "data.area"
   ]
  },
  {
   "cell_type": "code",
   "execution_count": 9,
   "id": "0c5dd76d-f144-4031-8fa3-2ce99767bd12",
   "metadata": {},
   "outputs": [
    {
     "data": {
      "text/plain": [
       "142.13285750254312"
      ]
     },
     "execution_count": 9,
     "metadata": {},
     "output_type": "execute_result"
    }
   ],
   "source": [
    "data.area.mean()"
   ]
  }
 ],
 "metadata": {
  "kernelspec": {
   "display_name": "Python 3 (ipykernel)",
   "language": "python",
   "name": "python3"
  },
  "language_info": {
   "codemirror_mode": {
    "name": "ipython",
    "version": 3
   },
   "file_extension": ".py",
   "mimetype": "text/x-python",
   "name": "python",
   "nbconvert_exporter": "python",
   "pygments_lexer": "ipython3",
   "version": "3.10.10"
  }
 },
 "nbformat": 4,
 "nbformat_minor": 5
}
